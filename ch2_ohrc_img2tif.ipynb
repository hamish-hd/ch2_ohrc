{
 "cells": [
  {
   "cell_type": "code",
   "execution_count": 1,
   "id": "0983758e",
   "metadata": {},
   "outputs": [
    {
     "ename": "ModuleNotFoundError",
     "evalue": "No module named 'rasterio'",
     "output_type": "error",
     "traceback": [
      "\u001b[0;31m---------------------------------------------------------------------------\u001b[0m",
      "\u001b[0;31mModuleNotFoundError\u001b[0m                       Traceback (most recent call last)",
      "\u001b[0;32m/tmp/ipykernel_215230/3955023094.py\u001b[0m in \u001b[0;36m<module>\u001b[0;34m\u001b[0m\n\u001b[1;32m      2\u001b[0m \u001b[0;32mimport\u001b[0m \u001b[0mmatplotlib\u001b[0m\u001b[0;34m.\u001b[0m\u001b[0mpyplot\u001b[0m \u001b[0;32mas\u001b[0m \u001b[0mplt\u001b[0m\u001b[0;34m\u001b[0m\u001b[0;34m\u001b[0m\u001b[0m\n\u001b[1;32m      3\u001b[0m \u001b[0;32mimport\u001b[0m \u001b[0mxml\u001b[0m\u001b[0;34m.\u001b[0m\u001b[0metree\u001b[0m\u001b[0;34m.\u001b[0m\u001b[0mElementTree\u001b[0m \u001b[0;32mas\u001b[0m \u001b[0mET\u001b[0m\u001b[0;34m\u001b[0m\u001b[0;34m\u001b[0m\u001b[0m\n\u001b[0;32m----> 4\u001b[0;31m \u001b[0;32mimport\u001b[0m \u001b[0mrasterio\u001b[0m\u001b[0;34m\u001b[0m\u001b[0;34m\u001b[0m\u001b[0m\n\u001b[0m\u001b[1;32m      5\u001b[0m \u001b[0;32mfrom\u001b[0m \u001b[0mrasterio\u001b[0m\u001b[0;34m.\u001b[0m\u001b[0mtransform\u001b[0m \u001b[0;32mimport\u001b[0m \u001b[0mfrom_origin\u001b[0m\u001b[0;34m\u001b[0m\u001b[0;34m\u001b[0m\u001b[0m\n\u001b[1;32m      6\u001b[0m \u001b[0;32mfrom\u001b[0m \u001b[0mrasterio\u001b[0m\u001b[0;34m.\u001b[0m\u001b[0mcrs\u001b[0m \u001b[0;32mimport\u001b[0m \u001b[0mCRS\u001b[0m\u001b[0;34m\u001b[0m\u001b[0;34m\u001b[0m\u001b[0m\n",
      "\u001b[0;31mModuleNotFoundError\u001b[0m: No module named 'rasterio'"
     ]
    }
   ],
   "source": [
    "import numpy as np\n",
    "import matplotlib.pyplot as plt\n",
    "import xml.etree.ElementTree as ET\n",
    "import rasterio\n",
    "from rasterio.transform import from_origin\n",
    "from rasterio.crs import CRS"
   ]
  },
  {
   "cell_type": "markdown",
   "id": "f17e4df2",
   "metadata": {},
   "source": [
    "Select path to .img file. The code will then read the .xml and write the .tif to the same location"
   ]
  },
  {
   "cell_type": "code",
   "execution_count": null,
   "id": "a14ce013",
   "metadata": {},
   "outputs": [],
   "source": [
    "image_path = input(\"Enter the path to the image file: \")"
   ]
  },
  {
   "cell_type": "code",
   "execution_count": null,
   "id": "fab7bcee",
   "metadata": {},
   "outputs": [],
   "source": [
    "xml_file_path = image_path[:-3] + 'xml'\n",
    "\n",
    "namespaces = {\n",
    "    'pds': 'http://pds.nasa.gov/pds4/pds/v1',\n",
    "    'isda': 'https://isda.issdc.gov.in/pds4/isda/v1'\n",
    "}\n",
    "\n",
    "tree = ET.parse(xml_file_path)\n",
    "root = tree.getroot()\n",
    "\n",
    "line_element = root.find(\".//pds:Axis_Array[pds:axis_name='Line']/pds:elements\", namespaces=namespaces)\n",
    "sample_element = root.find(\".//pds:Axis_Array[pds:axis_name='Sample']/pds:elements\", namespaces=namespaces)\n",
    "\n",
    "if line_element is not None:\n",
    "    line_value = int(line_element.text)\n",
    "    print(f\"Line Value: {line_value}\")\n",
    "else:\n",
    "    print(\"Line element not found in XML.\")\n",
    "\n",
    "if sample_element is not None:\n",
    "    sample_value = int(sample_element.text)\n",
    "    print(f\"Sample Value: {sample_value}\")\n",
    "else:\n",
    "    print(\"Sample element not found in XML.\")\n",
    "\n",
    "upper_left_lat = float(root.find(\".//isda:upper_left_latitude\", namespaces=namespaces).text)\n",
    "upper_left_lon = float(root.find(\".//isda:upper_left_longitude\", namespaces=namespaces).text)\n",
    "\n",
    "lower_left_lat = float(root.find(\".//isda:lower_left_latitude\", namespaces=namespaces).text)\n",
    "lower_left_lon = float(root.find(\".//isda:lower_left_longitude\", namespaces=namespaces).text)\n",
    "\n",
    "pixel_width = (upper_left_lon - lower_left_lon) / sample_value\n",
    "pixel_height = (upper_left_lat - lower_left_lat) / line_value\n",
    "pixel_size = (pixel_width + pixel_height) / 2.0\n",
    "\n",
    "image_width = sample_value\n",
    "image_height = line_value\n",
    "\n",
    "data_type = np.uint8\n",
    "\n",
    "with open(image_path, 'rb') as file:\n",
    "    raw_data = np.fromfile(file, dtype=data_type, count=image_width * image_height)\n",
    "\n",
    "image_array = raw_data.reshape((image_height, image_width))\n",
    "\n",
    "output_geotiff = image_path[:-3]+'tif'\n",
    "\n",
    "transform = from_origin(lower_left_lon, upper_left_lat, pixel_size, -pixel_size)  # Use -pixel_size for latitude\n",
    "\n",
    "with rasterio.open(\n",
    "        output_geotiff,\n",
    "        'w',\n",
    "        driver='GTiff',\n",
    "        height=image_height,\n",
    "        width=image_width,\n",
    "        count=1,\n",
    "        dtype=data_type,\n",
    "        crs=CRS.from_wkt('GEOGCS[\"GCS_Moon_2000\",DATUM[\"D_Moon_2000\",SPHEROID[\"Moon_2000_IAU_IAG\",1737400.0,0.0]],PRIMEM[\"Reference_Meridian\",0.0],UNIT[\"Degree\",0.0174532925199433]]'),\n",
    "        transform=transform\n",
    ") as dst:\n",
    "    dst.write(image_array, 1)\n",
    "\n",
    "print(f\"GeoTIFF file saved as: {output_geotiff}\")\n",
    "\n",
    "plt.imshow(image_array, cmap='gray')\n",
    "plt.axis('off')\n",
    "plt.show()"
   ]
  }
 ],
 "metadata": {
  "kernelspec": {
   "display_name": "Python 3 (ipykernel)",
   "language": "python",
   "name": "python3"
  },
  "language_info": {
   "codemirror_mode": {
    "name": "ipython",
    "version": 3
   },
   "file_extension": ".py",
   "mimetype": "text/x-python",
   "name": "python",
   "nbconvert_exporter": "python",
   "pygments_lexer": "ipython3",
   "version": "3.9.7"
  }
 },
 "nbformat": 4,
 "nbformat_minor": 5
}
